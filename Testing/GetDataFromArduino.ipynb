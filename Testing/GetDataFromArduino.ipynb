{
 "cells": [
  {
   "cell_type": "code",
   "execution_count": 1,
   "metadata": {},
   "outputs": [],
   "source": [
    "from random import sample\n",
    "import serial\n",
    "import serial.tools.list_ports\n",
    "import time\n",
    "import serial.tools.list_ports\n",
    "ports = serial.tools.list_ports.comports()"
   ]
  },
  {
   "cell_type": "code",
   "execution_count": 2,
   "metadata": {},
   "outputs": [
    {
     "name": "stdout",
     "output_type": "stream",
     "text": [
      "COM3: Standard Serial over Bluetooth link (COM3) [BTHENUM\\{00001101-0000-1000-8000-00805F9B34FB}_LOCALMFG&0000\\7&328B3B8&0&000000000000_000000BA]\n",
      "COM4: Standard Serial over Bluetooth link (COM4) [BTHENUM\\{00001101-0000-1000-8000-00805F9B34FB}_LOCALMFG&0002\\7&328B3B8&0&7C9EBDE3C682_C00000000]\n",
      "COM6: Silicon Labs CP210x USB to UART Bridge (COM6) [USB VID:PID=10C4:EA60 SER=0001 LOCATION=1-1]\n"
     ]
    }
   ],
   "source": [
    "for port, desc, hwid in sorted(ports):\n",
    "        print(\"{}: {} [{}]\".format(port, desc, hwid))"
   ]
  },
  {
   "cell_type": "code",
   "execution_count": 3,
   "metadata": {},
   "outputs": [
    {
     "name": "stdout",
     "output_type": "stream",
     "text": [
      "['COM4']\n"
     ]
    }
   ],
   "source": [
    "def serial_ports():\n",
    "    port = []\n",
    "    cp = serial.tools.list_ports.comports()\n",
    "    for p in cp:\n",
    "        if \"BTHENUM\" in p.hwid:\n",
    "            start_of_address = p.hwid.rfind(\"&\")\n",
    "            end_of_address = p.hwid.rfind(\"_\")\n",
    "            address = p.hwid[start_of_address + 1:end_of_address]\n",
    "            if int(address, 16) == 0:\n",
    "                port_type = \"incoming\"\n",
    "            else:\n",
    "                port_type = \"outgoing\"\n",
    "                # get Outgoing ports ONLY\n",
    "            if port_type == \"outgoing\":\n",
    "                port.append(p.name)\n",
    "    return port\n",
    "print(serial_ports())\n"
   ]
  },
  {
   "cell_type": "code",
   "execution_count": 8,
   "metadata": {},
   "outputs": [],
   "source": [
    "ser.close()"
   ]
  },
  {
   "cell_type": "code",
   "execution_count": 9,
   "metadata": {},
   "outputs": [
    {
     "name": "stdout",
     "output_type": "stream",
     "text": [
      "[['-1.23,-2.39,9.41,0.06,-0.06,0.08'], ['-1.40,-2.41,9.35,0.06,-0.05,0.08'], ['-1.31,-2.41,9.35,0.06,-0.05,0.08'], ['-1.31,-2.39,9.36,0.06,-0.06,0.08'], ['-1.24,-2.54,9.43,0.06,-0.06,0.08']]\n",
      "3.2221384048461914\n",
      "Sample rate: 1551.7645028779186\n"
     ]
    }
   ],
   "source": [
    "# ser.close()\n",
    "# COM3 bao cat COM8 canh ta8\n",
    "ser = serial.Serial(port=\"COM4\", baudrate=1000000)\n",
    "\n",
    "\n",
    "start = time.time()\n",
    "i = 0\n",
    "data = []\n",
    "samples = 5000\n",
    "while i < samples:\n",
    "    # do stuff\n",
    "    try:\n",
    "        b = ser.readline()\n",
    "        data_ser = b.decode().splitlines()\n",
    "        data.append(data_ser)\n",
    "    except Exception as e:\n",
    "        print(e)\n",
    "    i += 1\n",
    "    # print(str(future - now))\n",
    "print(data[0:5])\n",
    "end = time.time()\n",
    "print(end - start)\n",
    "print(\"Sample rate: \" + str(float(samples) / (end - start)))\n",
    "ser.close()"
   ]
  },
  {
   "cell_type": "code",
   "execution_count": 1,
   "metadata": {},
   "outputs": [],
   "source": [
    "import pandas as pd "
   ]
  },
  {
   "cell_type": "code",
   "execution_count": 28,
   "metadata": {},
   "outputs": [
    {
     "name": "stdout",
     "output_type": "stream",
     "text": [
      "[['0.58,-0.21,9.94,-1.05,1.55,0.35'], ['0.53,-0.21,9.26,-6.62,10.47,-2.12'], ['0.43,-0.14,9.85,4.75,-3.96,-0.34'], ['0.54,-0.11,9.99,2.94,-4.08,2.31'], ['0.65,-0.24,10.08,-6.25,9.63,0.65'], ['0.36,-0.08,9.85,1.34,-9.13,-2.37'], ['0.67,-0.30,10.02,4.91,4.02,-0.78'], ['0.57,-0.22,9.98,-4.90,3.22,2.56'], ['0.58,-0.26,9.82,-1.27,-7.75,0.85'], ['0.66,-0.25,10.03,5.63,8.19,-2.46'], ['0.55,-0.12,9.90,-3.12,-3.90,-0.66'], ['0.59,-0.29,9.98,-5.46,-6.60,0.72'], ['0.56,-0.12,10.05,2.37,7.62,2.04'], ['0.63,-0.32,9.90,3.19,-4.15,-0.18'], ['0.54,-0.23,9.92,-4.48,-1.15,-1.83'], ['0.56,-0.19,10.11,-0.08,5.88,-0.24'], ['0.62,-0.08,10.07,3.90,-6.82,1.85'], ['0.64,-0.37,9.94,-2.53,4.24,0.72'], ['0.53,-0.39,9.96,-2.13,0.81,-1.69'], ['0.77,-0.18,10.09,3.59,-4.77,-1.00']]\n"
     ]
    }
   ],
   "source": [
    "ser.close()\n",
    "ser = serial.Serial(port=\"COM6\", baudrate=921600)\n",
    "# ser = serial.Serial(port='COM13', baudrate=115200)\n",
    "\n",
    "b = ser.readline()\n",
    "\n",
    "# now = time.time()\n",
    "start = time.time()\n",
    "# future = now + 1\n",
    "i = 0\n",
    "data = []\n",
    "samples = 5000\n",
    "while i < samples:\n",
    "    # do stuff\n",
    "    b = ser.readline()\n",
    "    data_ser = b.decode().splitlines()\n",
    "    data.append(data_ser)\n",
    "    i += 1\n",
    "\n",
    "print(data)\n",
    "df = pd.DataFrame(data, columns=['ax,ay,az,gx,gy,gz'])\n",
    "ser.close()\n"
   ]
  },
  {
   "cell_type": "code",
   "execution_count": 29,
   "metadata": {},
   "outputs": [
    {
     "data": {
      "text/html": [
       "<div>\n",
       "<style scoped>\n",
       "    .dataframe tbody tr th:only-of-type {\n",
       "        vertical-align: middle;\n",
       "    }\n",
       "\n",
       "    .dataframe tbody tr th {\n",
       "        vertical-align: top;\n",
       "    }\n",
       "\n",
       "    .dataframe thead th {\n",
       "        text-align: right;\n",
       "    }\n",
       "</style>\n",
       "<table border=\"1\" class=\"dataframe\">\n",
       "  <thead>\n",
       "    <tr style=\"text-align: right;\">\n",
       "      <th></th>\n",
       "      <th>ax,ay,az,gx,gy,gz</th>\n",
       "    </tr>\n",
       "  </thead>\n",
       "  <tbody>\n",
       "    <tr>\n",
       "      <th>0</th>\n",
       "      <td>0.58,-0.21,9.94,-1.05,1.55,0.35</td>\n",
       "    </tr>\n",
       "    <tr>\n",
       "      <th>1</th>\n",
       "      <td>0.53,-0.21,9.26,-6.62,10.47,-2.12</td>\n",
       "    </tr>\n",
       "    <tr>\n",
       "      <th>2</th>\n",
       "      <td>0.43,-0.14,9.85,4.75,-3.96,-0.34</td>\n",
       "    </tr>\n",
       "    <tr>\n",
       "      <th>3</th>\n",
       "      <td>0.54,-0.11,9.99,2.94,-4.08,2.31</td>\n",
       "    </tr>\n",
       "    <tr>\n",
       "      <th>4</th>\n",
       "      <td>0.65,-0.24,10.08,-6.25,9.63,0.65</td>\n",
       "    </tr>\n",
       "  </tbody>\n",
       "</table>\n",
       "</div>"
      ],
      "text/plain": [
       "                   ax,ay,az,gx,gy,gz\n",
       "0    0.58,-0.21,9.94,-1.05,1.55,0.35\n",
       "1  0.53,-0.21,9.26,-6.62,10.47,-2.12\n",
       "2   0.43,-0.14,9.85,4.75,-3.96,-0.34\n",
       "3    0.54,-0.11,9.99,2.94,-4.08,2.31\n",
       "4   0.65,-0.24,10.08,-6.25,9.63,0.65"
      ]
     },
     "execution_count": 29,
     "metadata": {},
     "output_type": "execute_result"
    }
   ],
   "source": [
    "df.head()"
   ]
  },
  {
   "cell_type": "code",
   "execution_count": 32,
   "metadata": {},
   "outputs": [],
   "source": [
    "df.to_csv(\"output.csv\", index=False)\n"
   ]
  }
 ],
 "metadata": {
  "kernelspec": {
   "display_name": "Python 3.9.13 ('env': venv)",
   "language": "python",
   "name": "python3"
  },
  "language_info": {
   "codemirror_mode": {
    "name": "ipython",
    "version": 3
   },
   "file_extension": ".py",
   "mimetype": "text/x-python",
   "name": "python",
   "nbconvert_exporter": "python",
   "pygments_lexer": "ipython3",
   "version": "3.9.13"
  },
  "orig_nbformat": 4,
  "vscode": {
   "interpreter": {
    "hash": "14589e019148f05d6e534ae3c4cbc14dcf521dbf847cf0e563810ab81632b8a7"
   }
  }
 },
 "nbformat": 4,
 "nbformat_minor": 2
}
