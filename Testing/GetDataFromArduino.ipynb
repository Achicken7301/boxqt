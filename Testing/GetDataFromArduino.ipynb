{
 "cells": [
  {
   "cell_type": "code",
   "execution_count": 1,
   "metadata": {},
   "outputs": [],
   "source": [
    "from random import sample\n",
    "import serial\n",
    "import serial.tools.list_ports\n",
    "import time\n",
    "import pandas as pd\n"
   ]
  },
  {
   "cell_type": "code",
   "execution_count": null,
   "metadata": {},
   "outputs": [],
   "source": [
    "ports = serial.tools.list_ports.comports()\n",
    "print(ports)\n",
    "for port, desc, hwid in sorted(ports):\n",
    "        print(\"{}: {} [{}]\".format(port, desc, hwid))"
   ]
  },
  {
   "cell_type": "code",
   "execution_count": 7,
   "metadata": {},
   "outputs": [
    {
     "name": "stdout",
     "output_type": "stream",
     "text": [
      "['COM9', 'COM4']\n"
     ]
    }
   ],
   "source": [
    "def serial_ports():\n",
    "    port = []\n",
    "    cp = serial.tools.list_ports.comports()\n",
    "    for p in cp:\n",
    "        if \"BTHENUM\" in p.hwid:\n",
    "            start_of_address = p.hwid.rfind(\"&\")\n",
    "            end_of_address = p.hwid.rfind(\"_\")\n",
    "            address = p.hwid[start_of_address + 1:end_of_address]\n",
    "            if int(address, 16) == 0:\n",
    "                port_type = \"incoming\"\n",
    "            else:\n",
    "                port_type = \"outgoing\"\n",
    "                # get Outgoing ports ONLY\n",
    "            if port_type == \"outgoing\":\n",
    "                port.append(p.name)\n",
    "    return port\n",
    "print(serial_ports())\n"
   ]
  },
  {
   "cell_type": "code",
   "execution_count": null,
   "metadata": {},
   "outputs": [],
   "source": [
    "ser.close()"
   ]
  },
  {
   "cell_type": "code",
   "execution_count": 5,
   "metadata": {},
   "outputs": [
    {
     "name": "stdout",
     "output_type": "stream",
     "text": [
      "1.5049781799316406\n",
      "332.2307304300658\n"
     ]
    }
   ],
   "source": [
    "# ser.close()\n",
    "# COM3 bao cat COM8 canh ta8\n",
    "# ser = serial.Serial(port=\"COM9\", baudrate=1000*1000)\n",
    "ser = serial.Serial(port=\"COM4\", baudrate=1000 * 1000)\n",
    "\n",
    "i = 0\n",
    "data = []\n",
    "samples = 500\n",
    "start = time.time()\n",
    "while i < samples:\n",
    "    try:\n",
    "        b = ser.readline()\n",
    "        data_ser = b.decode().splitlines()\n",
    "        data.append(data_ser)\n",
    "    except Exception as e:\n",
    "        print(e)\n",
    "    i += 1\n",
    "\n",
    "end = time.time()\n",
    "ser.close()\n",
    "print(end - start)\n",
    "print(samples / float(end - start))\n",
    "# print(data)"
   ]
  },
  {
   "cell_type": "code",
   "execution_count": null,
   "metadata": {},
   "outputs": [],
   "source": [
    "def sensor_read(ser, ax, ay, az, gx, gy, gz):\n",
    "    try:\n",
    "        b = ser.readline()\n",
    "        data_ser = b.decode().splitlines()\n",
    "        ax_ser, ay_ser, az_ser, gx_ser, gy_ser, gz_ser = data_ser[0].split(\",\")\n",
    "    except Exception as e:\n",
    "        print(e)\n",
    "    ax.append(ax_ser)\n",
    "    ay.append(ay_ser)\n",
    "    az.append(az_ser)\n",
    "    gx.append(gx_ser)\n",
    "    gy.append(gy_ser)\n",
    "    gz.append(gz_ser)"
   ]
  },
  {
   "cell_type": "code",
   "execution_count": null,
   "metadata": {},
   "outputs": [],
   "source": [
    "ax = []\n",
    "ay = []\n",
    "az = []\n",
    "gx = []\n",
    "gy = []\n",
    "gz = []\n",
    "for i in range(0, len(data)):\n",
    "     try:\n",
    "          ax_ser, ay_ser, az_ser, gx_ser, gy_ser, gz_ser = data[i].split(\",\")\n",
    "     except Exception as e:\n",
    "          print(e)\n",
    "     ax.append(ax_ser)\n",
    "     ay.append(ay_ser)\n",
    "     az.append(az_ser)\n",
    "     gx.append(gx_ser)\n",
    "     gy.append(gy_ser)\n",
    "     gz.append(gz_ser)\n"
   ]
  },
  {
   "cell_type": "code",
   "execution_count": null,
   "metadata": {},
   "outputs": [],
   "source": [
    "import pandas as pd "
   ]
  },
  {
   "cell_type": "code",
   "execution_count": null,
   "metadata": {},
   "outputs": [],
   "source": [
    "try:\n",
    "    ser.close()\n",
    "except Exception as e:\n",
    "    print(e)\n",
    "    \n",
    "ser = serial.Serial(port=\"COM6\", baudrate=1000 * 1000)\n",
    "# ser = serial.Serial(port='COM13', baudrate=115200)\n",
    "\n",
    "b = ser.readline()\n",
    "\n",
    "# now = time.time()\n",
    "# future = now + 1\n",
    "i = 0\n",
    "data = []\n",
    "ax = []\n",
    "ay = []\n",
    "az = []\n",
    "gx = []\n",
    "gy = []\n",
    "gz = []\n",
    "samples = 40\n",
    "\n",
    "# while i < samples:\n",
    "#     # do stuff\n",
    "#     b = ser.readline()\n",
    "#     data_ser = b.decode().splitlines()\n",
    "#     data.append(data_ser)\n",
    "#     i += 1\n",
    "\n",
    "start = 0\n",
    "\n",
    "def sensor_read(ser, ax, ay, az, gx, gy, gz):\n",
    "    b = ser.readline()\n",
    "    data_ser = b.decode().splitlines()\n",
    "    try:\n",
    "        ax_ser, ay_ser, az_ser, gx_ser, gy_ser, gz_ser = data_ser[0].split(\",\")\n",
    "        ax.append(ax_ser)\n",
    "        ay.append(ay_ser)\n",
    "        az.append(az_ser)\n",
    "        gx.append(gx_ser)\n",
    "        gy.append(gy_ser)\n",
    "        gz.append(gz_ser)\n",
    "    except Exception as e:\n",
    "        print(e)\n",
    "\n",
    "while i < samples:\n",
    "    # do stuff\n",
    "    sensor_read(ser, ax, ay, az, gx, gy, gz)\n",
    "    i += 1\n",
    "\n",
    "print(ax)\n",
    "print(ay)\n",
    "print(az)\n",
    "print(gx)\n",
    "print(gy)\n",
    "print(gz)\n",
    "\n",
    "ser.close()\n"
   ]
  },
  {
   "attachments": {},
   "cell_type": "markdown",
   "metadata": {},
   "source": [
    "## Load Model"
   ]
  },
  {
   "cell_type": "code",
   "execution_count": 31,
   "metadata": {},
   "outputs": [],
   "source": [
    "import numpy as np\n",
    "import tensorflow as tf\n",
    "from tensorflow import keras\n",
    "import time"
   ]
  },
  {
   "cell_type": "code",
   "execution_count": 3,
   "metadata": {},
   "outputs": [],
   "source": [
    "reloaded_model = tf.keras.models.load_model('D:\\laragon\\www\\\\boxqt\\CNN\\model')"
   ]
  },
  {
   "attachments": {},
   "cell_type": "markdown",
   "metadata": {},
   "source": [
    "## Feature extraction"
   ]
  },
  {
   "cell_type": "code",
   "execution_count": 33,
   "metadata": {},
   "outputs": [
    {
     "name": "stdout",
     "output_type": "stream",
     "text": [
      "1000600\n"
     ]
    }
   ],
   "source": [
    "ax = ['-0.01', '0.00', '0.00', '-0.15', '-0.05', '-0.05', '-0.19', '-0.05', '0.02', '-0.07', '-0.07', '-0.08', '-0.05', '-0.02', '-0.18', '-0.11', '-0.06', '-0.07', '0.01', '0.01', '0.10', '-0.01', '-0.07', '-0.11', '0.03', '-0.04', '-0.04', '-0.04', '-0.10', '-0.04', '-0.02', '0.02', '0.02', '0.00', '0.00', '-0.10', '-0.03', '0.08', '0.01', '-0.11']\n",
    "ay = ['0.67', '0.65', '0.65', '0.61', '0.63', '0.63', '0.65', '0.70', '0.62', '0.61', '0.61', '0.67', '0.66', '0.56', '0.58', '0.68', '0.70', '0.65', '0.65', '0.67', '0.59', '0.63', '0.73', '0.64', '0.60', '0.59', '0.59', '0.74', '0.68', '0.56', '0.62', '0.69', '0.67', '0.65', '0.65', '0.65', '0.73', '0.70', '0.65', '0.63']\n",
    "az = ['-9.96', '-9.97', '-9.97', '-9.98', '-10.01', '-9.93', '-9.96', '-9.91', '-9.94', '-9.94', '-9.94', '-9.92', '-10.02', '-10.03', '-10.00', '-10.01', '-9.94', '-9.97', '-9.97', '-9.99', '-9.97', '-10.09', '-9.93', '-9.97', '-10.08', '-9.98', '-9.98', '-10.03', '-10.02', '-9.89', '-10.03', '-9.96', '-9.99', '-9.94', '-9.94', '-9.94', '-9.94', '-9.83', '-9.94', '-10.00']\n",
    "gx = ['-1.62', '-1.62', '2.20', '-1.98', '1.31', '-0.67', '-0.22', '0.85', '-1.55', '-1.55', '1.83', '-2.07', '1.87', '-1.67', '1.09', '-0.64', '-0.07', '0.51', '0.51', '-1.07', '1.25', '-1.47', '1.28', '-1.14', '0.63', '0.63', '-0.28', '-0.32', '0.67', '-1.04', '1.20', '-1.23', '1.11', '-0.85', '-0.85', '0.55', '-0.18', '-0.16', '0.49', '-0.69']\n",
    "gy = ['3.60', '3.60', '-4.07', '4.12', '-3.75', '3.80', '-3.44', '3.49', '-3.14', '-3.14', '3.20', '-2.88', '2.96', '-2.66', '2.76', '-2.48', '2.60', '-2.32', '-2.32', '2.43', '-2.15', '2.26', '-1.97', '2.06', '-1.76', '-1.76', '1.87', '-1.57', '1.64', '-1.46', '1.43', '-1.33', '1.27', '-1.21', '-1.21', '1.15', '-1.11', '1.05', '-1.01', '0.94']\n",
    "gz = ['-0.33', '0.39', '0.39', '-0.34', '0.28', '0.07', '-0.23', '0.44', '-0.28', '-0.28', '0.12', '0.28', '-0.45', '0.61', '-0.41', '0.19', '0.22', '-0.39', '-0.39', '0.52', '-0.31', '0.11', '0.22', '-0.30', '0.36', '-0.12', '-0.12', '-0.06', '0.30', '-0.29', '0.19', '0.07', '-0.28', '0.42', '0.42', '-0.35', '0.17', '0.11', '-0.31', '0.39']\n",
    "window = []\n",
    "ax_popped = []\n",
    "ay_popped = []\n",
    "az_popped = []\n",
    "gx_popped = []\n",
    "gy_popped = []\n",
    "gz_popped = []\n",
    "# ['a_mean', 'g_mean', 'a_std', 'g_std']\n",
    "def EnQueue(ax, ay, az, gx, gy, gz, ax_popped, ay_popped, az_popped, gx_popped, gy_popped, gz_popped):\n",
    "    for i in range(20):\n",
    "        ax_popped.append(float(ax.pop(0)))\n",
    "        ay_popped.append(float(ay.pop(0)))\n",
    "        az_popped.append(float(az.pop(0)))\n",
    "        gx_popped.append(float(gx.pop(0)))\n",
    "        gy_popped.append(float(gy.pop(0)))\n",
    "        gz_popped.append(float(gz.pop(0)))\n",
    "\n",
    "start = time.time_ns()\n",
    "# time.sleep(1)\n",
    "EnQueue(ax, ay, az, gx, gy, gz, ax_popped, ay_popped, az_popped, gx_popped, gy_popped, gz_popped)\n",
    "end = time.time_ns()\n",
    "\n",
    "print(end - start)\n"
   ]
  },
  {
   "cell_type": "code",
   "execution_count": null,
   "metadata": {},
   "outputs": [],
   "source": [
    "type(ax_popped[0])"
   ]
  },
  {
   "cell_type": "code",
   "execution_count": 34,
   "metadata": {},
   "outputs": [],
   "source": [
    "def process_input_data(input:pd.DataFrame, ax_popped:list, ay_popped:list, az_popped:list, gx_popped:list, gy_popped:list, gz_popped:list):\n",
    "    ax_popped = pd.DataFrame(ax_popped)\n",
    "    ax_mean = ax_popped.abs().mean()\n",
    "    ax_std = ax_popped.std()\n",
    "\n",
    "    ay_popped = pd.DataFrame(ay_popped)\n",
    "    ay_mean = ay_popped.abs().mean()\n",
    "    ay_std = ay_popped.std()\n",
    "\n",
    "    az_popped = pd.DataFrame(az_popped)\n",
    "    az_mean = az_popped.abs().mean()\n",
    "    az_std = az_popped.std()\n",
    "\n",
    "    gx_popped = pd.DataFrame(gx_popped)\n",
    "    gx_mean = gx_popped.abs().mean()\n",
    "    gx_std = gx_popped.std()\n",
    "\n",
    "    gy_popped = pd.DataFrame(gy_popped)\n",
    "    gy_mean = gy_popped.abs().mean()\n",
    "    gy_std = gy_popped.std()\n",
    "\n",
    "    gz_popped = pd.DataFrame(gz_popped)\n",
    "    gz_mean = gz_popped.abs().mean()\n",
    "    gz_std = gz_popped.std()\n",
    "\n",
    "    input['a_mean'] = pow(pow(ax_mean, 2) + pow(ay_mean, 2) + pow(az_mean, 2), 1/2)\n",
    "    input['g_mean'] = pow(pow(gx_mean, 2) + pow(gy_mean, 2) + pow(gz_mean, 2), 1/2)\n",
    "    input['a_std'] = pow(pow(ax_std, 2) + pow(ay_std, 2) + pow(az_std, 2), 1/2)\n",
    "    input['g_std'] = pow(pow(gx_std, 2) + pow(gy_std, 2) + pow(gz_std, 2), 1/2)\n",
    "    \n",
    "\n"
   ]
  },
  {
   "cell_type": "code",
   "execution_count": 37,
   "metadata": {},
   "outputs": [
    {
     "name": "stdout",
     "output_type": "stream",
     "text": [
      "11971300\n"
     ]
    },
    {
     "data": {
      "text/html": [
       "<div>\n",
       "<style scoped>\n",
       "    .dataframe tbody tr th:only-of-type {\n",
       "        vertical-align: middle;\n",
       "    }\n",
       "\n",
       "    .dataframe tbody tr th {\n",
       "        vertical-align: top;\n",
       "    }\n",
       "\n",
       "    .dataframe thead th {\n",
       "        text-align: right;\n",
       "    }\n",
       "</style>\n",
       "<table border=\"1\" class=\"dataframe\">\n",
       "  <thead>\n",
       "    <tr style=\"text-align: right;\">\n",
       "      <th></th>\n",
       "      <th>a_mean</th>\n",
       "      <th>g_mean</th>\n",
       "      <th>a_std</th>\n",
       "      <th>g_std</th>\n",
       "    </tr>\n",
       "  </thead>\n",
       "  <tbody>\n",
       "    <tr>\n",
       "      <th>0</th>\n",
       "      <td>9.988881</td>\n",
       "      <td>3.392094</td>\n",
       "      <td>0.078857</td>\n",
       "      <td>3.579067</td>\n",
       "    </tr>\n",
       "  </tbody>\n",
       "</table>\n",
       "</div>"
      ],
      "text/plain": [
       "     a_mean    g_mean     a_std     g_std\n",
       "0  9.988881  3.392094  0.078857  3.579067"
      ]
     },
     "execution_count": 37,
     "metadata": {},
     "output_type": "execute_result"
    }
   ],
   "source": [
    "input = pd.DataFrame()\n",
    "start = time.time_ns()\n",
    "process_input_data(input, ax_popped, ay_popped, az_popped, gx_popped, gy_popped, gz_popped)\n",
    "end = time.time_ns()\n",
    "print(end - start)\n",
    "input"
   ]
  },
  {
   "cell_type": "code",
   "execution_count": 40,
   "metadata": {},
   "outputs": [
    {
     "name": "stdout",
     "output_type": "stream",
     "text": [
      "1/1 [==============================] - 0s 24ms/step\n",
      "71806800\n"
     ]
    },
    {
     "data": {
      "text/plain": [
       "array([3089.146], dtype=float32)"
      ]
     },
     "execution_count": 40,
     "metadata": {},
     "output_type": "execute_result"
    }
   ],
   "source": [
    "# input\n",
    "start = time.time_ns()\n",
    "\n",
    "test_predictions = reloaded_model.predict(input).flatten()\n",
    "end = time.time_ns()\n",
    "print(end - start)\n",
    "test_predictions"
   ]
  }
 ],
 "metadata": {
  "kernelspec": {
   "display_name": "Python 3.9.13 ('env': venv)",
   "language": "python",
   "name": "python3"
  },
  "language_info": {
   "codemirror_mode": {
    "name": "ipython",
    "version": 3
   },
   "file_extension": ".py",
   "mimetype": "text/x-python",
   "name": "python",
   "nbconvert_exporter": "python",
   "pygments_lexer": "ipython3",
   "version": "3.9.13 (tags/v3.9.13:6de2ca5, May 17 2022, 16:36:42) [MSC v.1929 64 bit (AMD64)]"
  },
  "orig_nbformat": 4,
  "vscode": {
   "interpreter": {
    "hash": "14589e019148f05d6e534ae3c4cbc14dcf521dbf847cf0e563810ab81632b8a7"
   }
  }
 },
 "nbformat": 4,
 "nbformat_minor": 2
}
