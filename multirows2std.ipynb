{
 "cells": [
  {
   "cell_type": "code",
   "execution_count": 18,
   "metadata": {},
   "outputs": [],
   "source": [
    "import pandas as pd\n",
    "import csv "
   ]
  },
  {
   "cell_type": "code",
   "execution_count": 64,
   "metadata": {},
   "outputs": [],
   "source": [
    "filename = \"black_box_data_18-10-22 12-03-56_newModifiled\"\n",
    "path = \"D:\\laragon\\www\\boxqt\\data\\clean_data\\black_box\\black_box_data_18-10-22 12-03-56_newModifiled.xlsx\"\n",
    "path = path.replace(\"\\\\\",\"/\")\n",
    "path = path.replace(\"\\b\",\"/b\")\n",
    "# print(path)\n",
    "df = pd.read_excel(path, sheet_name=\"modified\")"
   ]
  },
  {
   "cell_type": "code",
   "execution_count": 34,
   "metadata": {},
   "outputs": [
    {
     "name": "stdout",
     "output_type": "stream",
     "text": [
      "1\n",
      "21\n"
     ]
    }
   ],
   "source": [
    "print(df['#'].min())\n",
    "print(df['#'].max())\n",
    "# df['#']"
   ]
  },
  {
   "cell_type": "code",
   "execution_count": 65,
   "metadata": {},
   "outputs": [],
   "source": [
    "df['abs_ax'] = df['ax'].abs()\n",
    "df['abs_ay'] = df['ay'].abs()\n",
    "df['abs_az'] = df['az'].abs()\n",
    "df['abs_gx'] = df['gx'].abs()\n",
    "df['abs_gy'] = df['gy'].abs()\n",
    "df['abs_gz'] = df['gz'].abs()"
   ]
  },
  {
   "cell_type": "code",
   "execution_count": 66,
   "metadata": {},
   "outputs": [
    {
     "data": {
      "text/html": [
       "<div>\n",
       "<style scoped>\n",
       "    .dataframe tbody tr th:only-of-type {\n",
       "        vertical-align: middle;\n",
       "    }\n",
       "\n",
       "    .dataframe tbody tr th {\n",
       "        vertical-align: top;\n",
       "    }\n",
       "\n",
       "    .dataframe thead th {\n",
       "        text-align: right;\n",
       "    }\n",
       "</style>\n",
       "<table border=\"1\" class=\"dataframe\">\n",
       "  <thead>\n",
       "    <tr style=\"text-align: right;\">\n",
       "      <th></th>\n",
       "      <th>ax</th>\n",
       "      <th>ay</th>\n",
       "      <th>az</th>\n",
       "      <th>gx</th>\n",
       "      <th>gy</th>\n",
       "      <th>gz</th>\n",
       "      <th>#</th>\n",
       "      <th>abs_ax</th>\n",
       "      <th>abs_ay</th>\n",
       "      <th>abs_az</th>\n",
       "      <th>abs_gx</th>\n",
       "      <th>abs_gy</th>\n",
       "      <th>abs_gz</th>\n",
       "    </tr>\n",
       "  </thead>\n",
       "  <tbody>\n",
       "    <tr>\n",
       "      <th>0</th>\n",
       "      <td>-0.65</td>\n",
       "      <td>1.02</td>\n",
       "      <td>-10.86</td>\n",
       "      <td>0.01</td>\n",
       "      <td>0.03</td>\n",
       "      <td>0.05</td>\n",
       "      <td>1</td>\n",
       "      <td>0.65</td>\n",
       "      <td>1.02</td>\n",
       "      <td>10.86</td>\n",
       "      <td>0.01</td>\n",
       "      <td>0.03</td>\n",
       "      <td>0.05</td>\n",
       "    </tr>\n",
       "    <tr>\n",
       "      <th>1</th>\n",
       "      <td>-1.25</td>\n",
       "      <td>2.82</td>\n",
       "      <td>-12.12</td>\n",
       "      <td>0.10</td>\n",
       "      <td>0.13</td>\n",
       "      <td>-0.01</td>\n",
       "      <td>1</td>\n",
       "      <td>1.25</td>\n",
       "      <td>2.82</td>\n",
       "      <td>12.12</td>\n",
       "      <td>0.10</td>\n",
       "      <td>0.13</td>\n",
       "      <td>0.01</td>\n",
       "    </tr>\n",
       "    <tr>\n",
       "      <th>2</th>\n",
       "      <td>-3.57</td>\n",
       "      <td>6.49</td>\n",
       "      <td>-9.95</td>\n",
       "      <td>0.29</td>\n",
       "      <td>0.07</td>\n",
       "      <td>0.11</td>\n",
       "      <td>1</td>\n",
       "      <td>3.57</td>\n",
       "      <td>6.49</td>\n",
       "      <td>9.95</td>\n",
       "      <td>0.29</td>\n",
       "      <td>0.07</td>\n",
       "      <td>0.11</td>\n",
       "    </tr>\n",
       "    <tr>\n",
       "      <th>3</th>\n",
       "      <td>-5.20</td>\n",
       "      <td>12.63</td>\n",
       "      <td>-11.38</td>\n",
       "      <td>0.81</td>\n",
       "      <td>0.01</td>\n",
       "      <td>0.14</td>\n",
       "      <td>1</td>\n",
       "      <td>5.20</td>\n",
       "      <td>12.63</td>\n",
       "      <td>11.38</td>\n",
       "      <td>0.81</td>\n",
       "      <td>0.01</td>\n",
       "      <td>0.14</td>\n",
       "    </tr>\n",
       "    <tr>\n",
       "      <th>4</th>\n",
       "      <td>-6.45</td>\n",
       "      <td>19.60</td>\n",
       "      <td>-17.46</td>\n",
       "      <td>1.50</td>\n",
       "      <td>-0.21</td>\n",
       "      <td>0.17</td>\n",
       "      <td>1</td>\n",
       "      <td>6.45</td>\n",
       "      <td>19.60</td>\n",
       "      <td>17.46</td>\n",
       "      <td>1.50</td>\n",
       "      <td>0.21</td>\n",
       "      <td>0.17</td>\n",
       "    </tr>\n",
       "  </tbody>\n",
       "</table>\n",
       "</div>"
      ],
      "text/plain": [
       "     ax     ay     az    gx    gy    gz  #  abs_ax  abs_ay  abs_az  abs_gx  \\\n",
       "0 -0.65   1.02 -10.86  0.01  0.03  0.05  1    0.65    1.02   10.86    0.01   \n",
       "1 -1.25   2.82 -12.12  0.10  0.13 -0.01  1    1.25    2.82   12.12    0.10   \n",
       "2 -3.57   6.49  -9.95  0.29  0.07  0.11  1    3.57    6.49    9.95    0.29   \n",
       "3 -5.20  12.63 -11.38  0.81  0.01  0.14  1    5.20   12.63   11.38    0.81   \n",
       "4 -6.45  19.60 -17.46  1.50 -0.21  0.17  1    6.45   19.60   17.46    1.50   \n",
       "\n",
       "   abs_gy  abs_gz  \n",
       "0    0.03    0.05  \n",
       "1    0.13    0.01  \n",
       "2    0.07    0.11  \n",
       "3    0.01    0.14  \n",
       "4    0.21    0.17  "
      ]
     },
     "execution_count": 66,
     "metadata": {},
     "output_type": "execute_result"
    }
   ],
   "source": [
    "df.head()"
   ]
  },
  {
   "cell_type": "code",
   "execution_count": 67,
   "metadata": {},
   "outputs": [],
   "source": [
    "std = []\n",
    "\n",
    "for i in range(df['#'].min(), df['#'].max() + 1):\n",
    "     std.append(df[df['#'] == i].std())"
   ]
  },
  {
   "cell_type": "code",
   "execution_count": 68,
   "metadata": {},
   "outputs": [],
   "source": [
    "header = [\n",
    "    'std_ax', 'std_ay', 'std_az', 'std_gx', 'std_gy', 'std_gz', '#',\n",
    "    'std_abs_ax', 'std_abs_ay', 'std_abs_az', 'std_abs_gx', 'std_abs_gy',\n",
    "    'std_abs_gz'\n",
    "]\n",
    "filename = filename + \"_std\" + \".csv\"\n",
    "\n",
    "with open(filename, 'w') as f:\n",
    "\n",
    "    # using csv.writer method from CSV package\n",
    "    write = csv.writer(f)\n",
    "    write.writerow(header)\n",
    "    write.writerows(std)"
   ]
  }
 ],
 "metadata": {
  "kernelspec": {
   "display_name": "Python 3.9.13 ('env': venv)",
   "language": "python",
   "name": "python3"
  },
  "language_info": {
   "codemirror_mode": {
    "name": "ipython",
    "version": 3
   },
   "file_extension": ".py",
   "mimetype": "text/x-python",
   "name": "python",
   "nbconvert_exporter": "python",
   "pygments_lexer": "ipython3",
   "version": "3.9.13 (tags/v3.9.13:6de2ca5, May 17 2022, 16:36:42) [MSC v.1929 64 bit (AMD64)]"
  },
  "orig_nbformat": 4,
  "vscode": {
   "interpreter": {
    "hash": "14589e019148f05d6e534ae3c4cbc14dcf521dbf847cf0e563810ab81632b8a7"
   }
  }
 },
 "nbformat": 4,
 "nbformat_minor": 2
}
