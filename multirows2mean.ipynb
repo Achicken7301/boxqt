{
 "cells": [
  {
   "cell_type": "code",
   "execution_count": 1,
   "metadata": {},
   "outputs": [],
   "source": [
    "import pandas as pd\n",
    "import csv "
   ]
  },
  {
   "cell_type": "code",
   "execution_count": 8,
   "metadata": {},
   "outputs": [],
   "source": [
    "df = pd.read_excel(\"D:\\\\laragon\\www\\\\boxqt\\\\data\\\\clean_data\\\\black_box\\\\black_box_data_18-10-22 12-03-56_newModifiled.xlsx\", sheet_name=\"input\")"
   ]
  },
  {
   "cell_type": "code",
   "execution_count": 7,
   "metadata": {},
   "outputs": [
    {
     "name": "stdout",
     "output_type": "stream",
     "text": [
      "1\n",
      "22\n"
     ]
    }
   ],
   "source": [
    "# print(df['#'].min())\n",
    "# print(df['#'].max())"
   ]
  },
  {
   "cell_type": "code",
   "execution_count": 9,
   "metadata": {},
   "outputs": [],
   "source": [
    "mean = []\n",
    "\n",
    "for i in range(df['#'].min(), df['#'].max() + 1):\n",
    "     mean.append(df[df['#'] == i].mean())"
   ]
  },
  {
   "cell_type": "code",
   "execution_count": 10,
   "metadata": {},
   "outputs": [],
   "source": [
    "header = ['mean_ax', 'mean_ay', 'mean_az', 'mean_gx', 'mean_gy', 'mean_gz', '#']\n",
    "\n",
    "with open('mean.csv', 'w') as f:\n",
    "\n",
    "    # using csv.writer method from CSV package\n",
    "    write = csv.writer(f)\n",
    "    write.writerow(header)\n",
    "    write.writerows(mean)"
   ]
  }
 ],
 "metadata": {
  "kernelspec": {
   "display_name": "Python 3.9.13 ('env': venv)",
   "language": "python",
   "name": "python3"
  },
  "language_info": {
   "codemirror_mode": {
    "name": "ipython",
    "version": 3
   },
   "file_extension": ".py",
   "mimetype": "text/x-python",
   "name": "python",
   "nbconvert_exporter": "python",
   "pygments_lexer": "ipython3",
   "version": "3.9.13"
  },
  "orig_nbformat": 4,
  "vscode": {
   "interpreter": {
    "hash": "14589e019148f05d6e534ae3c4cbc14dcf521dbf847cf0e563810ab81632b8a7"
   }
  }
 },
 "nbformat": 4,
 "nbformat_minor": 2
}
