{
 "cells": [
  {
   "cell_type": "code",
   "execution_count": 117,
   "metadata": {},
   "outputs": [],
   "source": [
    "import pandas as pd"
   ]
  },
  {
   "cell_type": "code",
   "execution_count": 118,
   "metadata": {},
   "outputs": [],
   "source": [
    "filename = \"lay_5_cai_dau_data2 12-08-22 16-20-27\"\n",
    "filename = filename + \"_mean_std.csv\"\n",
    "path = \"D:\\laragon\\www\\\\boxqt\\data\\\\08-12-22\\lay_5_cai_dau_data2 12-08-22 16-20-27.xlsx\"\n",
    "# print(path)\n",
    "df = pd.read_excel(path, sheet_name=\"input\")\n",
    "df_output = pd.read_excel(path, sheet_name=\"output\")"
   ]
  },
  {
   "cell_type": "code",
   "execution_count": 119,
   "metadata": {},
   "outputs": [],
   "source": [
    "output = []\n",
    "\n",
    "for i in range(df['#'].min(), df_output['#'].max() + 1):\n",
    "     output.append(df_output[df_output['#'] == i].max())\n",
    "     # df1 = df[df['#'] == i].mean()\n",
    "\n",
    "df_output = pd.DataFrame(output)"
   ]
  },
  {
   "cell_type": "code",
   "execution_count": 120,
   "metadata": {},
   "outputs": [],
   "source": [
    "df_output = pd.DataFrame(output)"
   ]
  },
  {
   "cell_type": "code",
   "execution_count": 121,
   "metadata": {},
   "outputs": [
    {
     "data": {
      "text/html": [
       "<div>\n",
       "<style scoped>\n",
       "    .dataframe tbody tr th:only-of-type {\n",
       "        vertical-align: middle;\n",
       "    }\n",
       "\n",
       "    .dataframe tbody tr th {\n",
       "        vertical-align: top;\n",
       "    }\n",
       "\n",
       "    .dataframe thead th {\n",
       "        text-align: right;\n",
       "    }\n",
       "</style>\n",
       "<table border=\"1\" class=\"dataframe\">\n",
       "  <thead>\n",
       "    <tr style=\"text-align: right;\">\n",
       "      <th></th>\n",
       "      <th>f</th>\n",
       "      <th>#</th>\n",
       "    </tr>\n",
       "  </thead>\n",
       "  <tbody>\n",
       "    <tr>\n",
       "      <th>0</th>\n",
       "      <td>1349.07</td>\n",
       "      <td>1.0</td>\n",
       "    </tr>\n",
       "    <tr>\n",
       "      <th>1</th>\n",
       "      <td>2092.89</td>\n",
       "      <td>2.0</td>\n",
       "    </tr>\n",
       "    <tr>\n",
       "      <th>2</th>\n",
       "      <td>3159.27</td>\n",
       "      <td>3.0</td>\n",
       "    </tr>\n",
       "    <tr>\n",
       "      <th>3</th>\n",
       "      <td>3983.76</td>\n",
       "      <td>4.0</td>\n",
       "    </tr>\n",
       "    <tr>\n",
       "      <th>4</th>\n",
       "      <td>5249.78</td>\n",
       "      <td>5.0</td>\n",
       "    </tr>\n",
       "  </tbody>\n",
       "</table>\n",
       "</div>"
      ],
      "text/plain": [
       "         f    #\n",
       "0  1349.07  1.0\n",
       "1  2092.89  2.0\n",
       "2  3159.27  3.0\n",
       "3  3983.76  4.0\n",
       "4  5249.78  5.0"
      ]
     },
     "execution_count": 121,
     "metadata": {},
     "output_type": "execute_result"
    }
   ],
   "source": [
    "df_output.head(20)"
   ]
  },
  {
   "cell_type": "code",
   "execution_count": 122,
   "metadata": {},
   "outputs": [],
   "source": [
    "mean = []\n",
    "std = []\n",
    "for i in range(df['#'].min(), df['#'].max() + 1):\n",
    "     mean.append(df[df['#'] == i].abs().mean())\n",
    "     std.append(df[df['#'] == i].std())\n",
    "     # df1 = df[df['#'] == i].mean()\n",
    "df_mean = pd.DataFrame(mean)\n",
    "df_std = pd.DataFrame(std)"
   ]
  },
  {
   "cell_type": "code",
   "execution_count": 123,
   "metadata": {},
   "outputs": [],
   "source": [
    "df_mean = df_mean.rename(\n",
    "    columns={\n",
    "        'ax': 'ax_mean_abs',\n",
    "        'ay': 'ay_mean_abs',\n",
    "        'az': 'az_mean_abs',\n",
    "        'gx': 'gx_mean_abs',\n",
    "        'gy': 'gy_mean_abs',\n",
    "        'gz': 'gz_mean_abs',\n",
    "    })\n",
    "df_std = df_std.rename(\n",
    "    columns={\n",
    "        'ax': 'ax_std',\n",
    "        'ay': 'ay_std',\n",
    "        'az': 'az_std',\n",
    "        'gx': 'gx_std',\n",
    "        'gy': 'gy_std',\n",
    "        'gz': 'gz_std',\n",
    "    })"
   ]
  },
  {
   "cell_type": "code",
   "execution_count": 124,
   "metadata": {},
   "outputs": [
    {
     "data": {
      "text/html": [
       "<div>\n",
       "<style scoped>\n",
       "    .dataframe tbody tr th:only-of-type {\n",
       "        vertical-align: middle;\n",
       "    }\n",
       "\n",
       "    .dataframe tbody tr th {\n",
       "        vertical-align: top;\n",
       "    }\n",
       "\n",
       "    .dataframe thead th {\n",
       "        text-align: right;\n",
       "    }\n",
       "</style>\n",
       "<table border=\"1\" class=\"dataframe\">\n",
       "  <thead>\n",
       "    <tr style=\"text-align: right;\">\n",
       "      <th></th>\n",
       "      <th>ax_mean_abs</th>\n",
       "      <th>ay_mean_abs</th>\n",
       "      <th>az_mean_abs</th>\n",
       "      <th>gx_mean_abs</th>\n",
       "      <th>gy_mean_abs</th>\n",
       "      <th>gz_mean_abs</th>\n",
       "    </tr>\n",
       "  </thead>\n",
       "  <tbody>\n",
       "    <tr>\n",
       "      <th>0</th>\n",
       "      <td>3.544545</td>\n",
       "      <td>6.618182</td>\n",
       "      <td>9.320455</td>\n",
       "      <td>0.515455</td>\n",
       "      <td>0.222727</td>\n",
       "      <td>0.099091</td>\n",
       "    </tr>\n",
       "    <tr>\n",
       "      <th>1</th>\n",
       "      <td>7.595238</td>\n",
       "      <td>16.225714</td>\n",
       "      <td>10.716667</td>\n",
       "      <td>1.656190</td>\n",
       "      <td>0.793810</td>\n",
       "      <td>0.284762</td>\n",
       "    </tr>\n",
       "    <tr>\n",
       "      <th>2</th>\n",
       "      <td>12.375238</td>\n",
       "      <td>24.168095</td>\n",
       "      <td>16.139524</td>\n",
       "      <td>2.500000</td>\n",
       "      <td>1.317619</td>\n",
       "      <td>0.391905</td>\n",
       "    </tr>\n",
       "    <tr>\n",
       "      <th>3</th>\n",
       "      <td>16.112222</td>\n",
       "      <td>34.176667</td>\n",
       "      <td>21.255000</td>\n",
       "      <td>3.206111</td>\n",
       "      <td>1.825556</td>\n",
       "      <td>0.577222</td>\n",
       "    </tr>\n",
       "    <tr>\n",
       "      <th>4</th>\n",
       "      <td>29.023333</td>\n",
       "      <td>34.978333</td>\n",
       "      <td>28.903889</td>\n",
       "      <td>3.578333</td>\n",
       "      <td>2.483333</td>\n",
       "      <td>1.409444</td>\n",
       "    </tr>\n",
       "  </tbody>\n",
       "</table>\n",
       "</div>"
      ],
      "text/plain": [
       "   ax_mean_abs  ay_mean_abs  az_mean_abs  gx_mean_abs  gy_mean_abs  \\\n",
       "0     3.544545     6.618182     9.320455     0.515455     0.222727   \n",
       "1     7.595238    16.225714    10.716667     1.656190     0.793810   \n",
       "2    12.375238    24.168095    16.139524     2.500000     1.317619   \n",
       "3    16.112222    34.176667    21.255000     3.206111     1.825556   \n",
       "4    29.023333    34.978333    28.903889     3.578333     2.483333   \n",
       "\n",
       "   gz_mean_abs  \n",
       "0     0.099091  \n",
       "1     0.284762  \n",
       "2     0.391905  \n",
       "3     0.577222  \n",
       "4     1.409444  "
      ]
     },
     "execution_count": 124,
     "metadata": {},
     "output_type": "execute_result"
    }
   ],
   "source": [
    "df_std = df_std.drop(['#'], axis=1)\n",
    "df_std.head()\n",
    "df_mean = df_mean.drop(['#'], axis=1)\n",
    "df_mean.head()"
   ]
  },
  {
   "cell_type": "code",
   "execution_count": 125,
   "metadata": {},
   "outputs": [],
   "source": [
    "result = pd.concat([df_mean, df_std], axis=1)"
   ]
  },
  {
   "cell_type": "code",
   "execution_count": 126,
   "metadata": {},
   "outputs": [],
   "source": [
    "result['a_mean'] = pow(pow(result['ax_mean_abs'], 2) + pow(result['ay_mean_abs'], 2) + pow(result['az_mean_abs'], 2), 1/2)\n",
    "result['g_mean'] = pow(pow(result['gx_mean_abs'], 2) + pow(result['gy_mean_abs'], 2) + pow(result['gz_mean_abs'], 2), 1/2)\n",
    "result['a_std'] = pow(pow(result['ax_std'], 2) + pow(result['ay_std'], 2) + pow(result['az_std'], 2), 1/2)\n",
    "result['g_std'] = pow(pow(result['gx_std'], 2) + pow(result['gy_std'], 2) + pow(result['gz_std'], 2), 1/2)"
   ]
  },
  {
   "cell_type": "code",
   "execution_count": 127,
   "metadata": {},
   "outputs": [],
   "source": [
    "result = pd.concat([result, df_output], axis=1)"
   ]
  },
  {
   "cell_type": "code",
   "execution_count": 128,
   "metadata": {},
   "outputs": [],
   "source": [
    "result.to_csv(\"D:\\laragon\\www\\\\boxqt\\data\\cleandata_\" + filename,\n",
    "              index=False)\n"
   ]
  }
 ],
 "metadata": {
  "kernelspec": {
   "display_name": "Python 3.9.13 ('env': venv)",
   "language": "python",
   "name": "python3"
  },
  "language_info": {
   "codemirror_mode": {
    "name": "ipython",
    "version": 3
   },
   "file_extension": ".py",
   "mimetype": "text/x-python",
   "name": "python",
   "nbconvert_exporter": "python",
   "pygments_lexer": "ipython3",
   "version": "3.9.13 (tags/v3.9.13:6de2ca5, May 17 2022, 16:36:42) [MSC v.1929 64 bit (AMD64)]"
  },
  "orig_nbformat": 4,
  "vscode": {
   "interpreter": {
    "hash": "14589e019148f05d6e534ae3c4cbc14dcf521dbf847cf0e563810ab81632b8a7"
   }
  }
 },
 "nbformat": 4,
 "nbformat_minor": 2
}
