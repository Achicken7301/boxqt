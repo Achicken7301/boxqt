{
 "cells": [
  {
   "cell_type": "code",
   "execution_count": 2,
   "id": "f89540db",
   "metadata": {},
   "outputs": [],
   "source": [
    "import pandas as pd\n",
    "import numpy as np\n",
    "import seaborn as sns\n"
   ]
  },
  {
   "cell_type": "code",
   "execution_count": 3,
   "id": "0b15828e",
   "metadata": {},
   "outputs": [],
   "source": [
    "data = pd.read_excel('modified_data.xlsx', sheet_name ='input')"
   ]
  },
  {
   "cell_type": "code",
   "execution_count": 4,
   "id": "13592286",
   "metadata": {},
   "outputs": [],
   "source": [
    "y = pd.read_excel('modified_data.xlsx', sheet_name ='output')"
   ]
  },
  {
   "cell_type": "code",
   "execution_count": 5,
   "id": "21ad3650",
   "metadata": {},
   "outputs": [],
   "source": [
    "X = data.values"
   ]
  },
  {
   "cell_type": "code",
   "execution_count": 6,
   "id": "44077f1f",
   "metadata": {},
   "outputs": [],
   "source": [
    "X_data = X.reshape(46,31,6)\n",
    "n_steps = 31,6"
   ]
  },
  {
   "cell_type": "code",
   "execution_count": 14,
   "id": "76d01167",
   "metadata": {},
   "outputs": [],
   "source": [
    "y_data = y['fmax'].values"
   ]
  },
  {
   "cell_type": "code",
   "execution_count": 15,
   "id": "5a277a35",
   "metadata": {},
   "outputs": [],
   "source": [
    "from tensorflow.keras import Sequential\n",
    "from tensorflow.keras.layers import Dense\n",
    "\n"
   ]
  },
  {
   "cell_type": "code",
   "execution_count": 16,
   "id": "4edbdb8c",
   "metadata": {},
   "outputs": [],
   "source": [
    "model = Sequential()\n",
    "model.add(Dense(3, activation= \"relu\", input_shape = n_steps))\n",
    "# model.add(Dense(10, activation= \"relu\"))\n",
    "# model.add(Dense(10, activation= \"relu\"))\n",
    "model.add(Dense(1))"
   ]
  },
  {
   "cell_type": "code",
   "execution_count": 17,
   "id": "ab141ee9",
   "metadata": {},
   "outputs": [
    {
     "name": "stdout",
     "output_type": "stream",
     "text": [
      "Epoch 1/30\n",
      "2/2 [==============================] - 1s 4ms/step - loss: 7826407.5000 - mae: 2791.6929\n",
      "Epoch 2/30\n",
      "2/2 [==============================] - 0s 3ms/step - loss: 7826027.0000 - mae: 2791.6289\n",
      "Epoch 3/30\n",
      "2/2 [==============================] - 0s 3ms/step - loss: 7825703.5000 - mae: 2791.5662\n",
      "Epoch 4/30\n",
      "2/2 [==============================] - 0s 8ms/step - loss: 7825347.5000 - mae: 2791.5027\n",
      "Epoch 5/30\n",
      "2/2 [==============================] - 0s 8ms/step - loss: 7824970.5000 - mae: 2791.4395\n",
      "Epoch 6/30\n",
      "2/2 [==============================] - 0s 6ms/step - loss: 7824640.5000 - mae: 2791.3748\n",
      "Epoch 7/30\n",
      "2/2 [==============================] - 0s 6ms/step - loss: 7824273.5000 - mae: 2791.3103\n",
      "Epoch 8/30\n",
      "2/2 [==============================] - 0s 9ms/step - loss: 7823908.0000 - mae: 2791.2446\n",
      "Epoch 9/30\n",
      "2/2 [==============================] - 0s 9ms/step - loss: 7823548.0000 - mae: 2791.1794\n",
      "Epoch 10/30\n",
      "2/2 [==============================] - 0s 5ms/step - loss: 7823183.5000 - mae: 2791.1135\n",
      "Epoch 11/30\n",
      "2/2 [==============================] - 0s 8ms/step - loss: 7822811.0000 - mae: 2791.0466\n",
      "Epoch 12/30\n",
      "2/2 [==============================] - 0s 9ms/step - loss: 7822429.0000 - mae: 2790.9797\n",
      "Epoch 13/30\n",
      "2/2 [==============================] - 0s 14ms/step - loss: 7822060.0000 - mae: 2790.9124\n",
      "Epoch 14/30\n",
      "2/2 [==============================] - 0s 10ms/step - loss: 7821676.5000 - mae: 2790.8438\n",
      "Epoch 15/30\n",
      "2/2 [==============================] - 0s 6ms/step - loss: 7821296.0000 - mae: 2790.7751\n",
      "Epoch 16/30\n",
      "2/2 [==============================] - 0s 7ms/step - loss: 7820912.5000 - mae: 2790.7056\n",
      "Epoch 17/30\n",
      "2/2 [==============================] - 0s 8ms/step - loss: 7820524.0000 - mae: 2790.6367\n",
      "Epoch 18/30\n",
      "2/2 [==============================] - 0s 8ms/step - loss: 7820135.0000 - mae: 2790.5657\n",
      "Epoch 19/30\n",
      "2/2 [==============================] - 0s 5ms/step - loss: 7819741.0000 - mae: 2790.4951\n",
      "Epoch 20/30\n",
      "2/2 [==============================] - 0s 11ms/step - loss: 7819341.0000 - mae: 2790.4238\n",
      "Epoch 21/30\n",
      "2/2 [==============================] - 0s 9ms/step - loss: 7818945.5000 - mae: 2790.3523\n",
      "Epoch 22/30\n",
      "2/2 [==============================] - 0s 7ms/step - loss: 7818544.0000 - mae: 2790.2795\n",
      "Epoch 23/30\n",
      "2/2 [==============================] - 0s 8ms/step - loss: 7818109.0000 - mae: 2790.2065\n",
      "Epoch 24/30\n",
      "2/2 [==============================] - 0s 11ms/step - loss: 7817726.0000 - mae: 2790.1343\n",
      "Epoch 25/30\n",
      "2/2 [==============================] - 0s 8ms/step - loss: 7817319.5000 - mae: 2790.0593\n",
      "Epoch 26/30\n",
      "2/2 [==============================] - 0s 5ms/step - loss: 7816899.0000 - mae: 2789.9844\n",
      "Epoch 27/30\n",
      "2/2 [==============================] - 0s 9ms/step - loss: 7816485.5000 - mae: 2789.9097\n",
      "Epoch 28/30\n",
      "2/2 [==============================] - 0s 7ms/step - loss: 7816062.5000 - mae: 2789.8335\n",
      "Epoch 29/30\n",
      "2/2 [==============================] - 0s 6ms/step - loss: 7815639.0000 - mae: 2789.7571\n",
      "Epoch 30/30\n",
      "2/2 [==============================] - 0s 4ms/step - loss: 7815205.5000 - mae: 2789.6799\n"
     ]
    },
    {
     "data": {
      "text/plain": [
       "<keras.callbacks.History at 0x14132e18af0>"
      ]
     },
     "execution_count": 17,
     "metadata": {},
     "output_type": "execute_result"
    }
   ],
   "source": [
    "model.compile(optimizer='adam', loss='mse', metrics=['mae'])\n",
    "# fit the model\n",
    "model.fit(X_data, y_data, epochs=30)"
   ]
  }
 ],
 "metadata": {
  "kernelspec": {
   "display_name": "Python 3 (ipykernel)",
   "language": "python",
   "name": "python3"
  },
  "language_info": {
   "codemirror_mode": {
    "name": "ipython",
    "version": 3
   },
   "file_extension": ".py",
   "mimetype": "text/x-python",
   "name": "python",
   "nbconvert_exporter": "python",
   "pygments_lexer": "ipython3",
   "version": "3.9.12"
  }
 },
 "nbformat": 4,
 "nbformat_minor": 5
}
